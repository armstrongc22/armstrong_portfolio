{
 "cells": [
  {
   "cell_type": "code",
   "execution_count": 5,
   "id": "56703171-f126-4e01-8a34-b2a757dcc04f",
   "metadata": {},
   "outputs": [
    {
     "name": "stdout",
     "output_type": "stream",
     "text": [
      "                 category                                             models  \\\n",
      "0               Moderator                                          Moderator   \n",
      "1             Light water  Aqueous homogeneous Boiling BWR ABWR ESBWR Ker...   \n",
      "2  Heavy water by coolant  D2O Pressurized CANDU CANDU 6 CANDU 9 EC6 AFCR...   \n",
      "3                     D2O  Pressurized CANDU CANDU 6 CANDU 9 EC6 AFCR ACR...   \n",
      "4                     H2O  HWLWR ATR HW BLWR 250 Steam-generating (SGHWR)...   \n",
      "\n",
      "                                          model_list  \n",
      "0                                        [Moderator]  \n",
      "1  [Aqueous, homogeneous, Boiling, BWR, ABWR, ESB...  \n",
      "2  [D2O, Pressurized, CANDU, CANDU, 6, CANDU, 9, ...  \n",
      "3  [Pressurized, CANDU, CANDU, 6, CANDU, 9, EC6, ...  \n",
      "4  [HWLWR, ATR, HW, BLWR, 250, Steam-generating, ...  \n"
     ]
    }
   ],
   "source": [
    "import pandas as pd\n",
    "import re\n",
    "\n",
    "def clean_reactor_types(input_csv: str, output_csv: str) -> pd.DataFrame:\n",
    "    # 1) Load raw CSV\n",
    "    df = pd.read_csv(input_csv)\n",
    "    \n",
    "    # 2) Rename columns\n",
    "    df = df.rename(columns={\n",
    "        'vteTypes of nuclear fission reactor': 'category',\n",
    "        'vteTypes of nuclear fission reactor.1': 'models'\n",
    "    })\n",
    "    \n",
    "    # 3) If models is blank, use the category (to avoid NaNs)\n",
    "    df['models'] = df['models'].fillna(df['category'])\n",
    "    \n",
    "    # 4) Drop the fusion row (and any other rows you don’t need)\n",
    "    df = df[~df['category'].str.contains('fusion', case=False, na=False)]\n",
    "    \n",
    "    # 5) Drop exact duplicates\n",
    "    df = df.drop_duplicates()\n",
    "    \n",
    "    # 6) (Optional) split the models string into a list of model names\n",
    "    #    Here we split on one-or-more whitespace or commas—adjust to your delimiter\n",
    "    df['model_list'] = df['models'].apply(lambda s: re.split(r'[\\s,]+', s.strip()))\n",
    "    \n",
    "    # 7) Save a cleaned version for downstream use\n",
    "    df.to_csv(output_csv, index=False)\n",
    "    \n",
    "    return df\n",
    "\n",
    "if __name__ == \"__main__\":\n",
    "    cleaned = clean_reactor_types(\n",
    "        input_csv=r\"C:\\Users\\Armstrong\\nuclear\\data\\reactors.csv\",\n",
    "        output_csv=\"reactors_clean.csv\"\n",
    "    )\n",
    "    print(cleaned.head())\n"
   ]
  },
  {
   "cell_type": "code",
   "execution_count": null,
   "id": "b4446531-dc0d-444a-a818-65f6b52b8fc2",
   "metadata": {},
   "outputs": [],
   "source": []
  }
 ],
 "metadata": {
  "kernelspec": {
   "display_name": "Python 3 (ipykernel)",
   "language": "python",
   "name": "python3"
  },
  "language_info": {
   "codemirror_mode": {
    "name": "ipython",
    "version": 3
   },
   "file_extension": ".py",
   "mimetype": "text/x-python",
   "name": "python",
   "nbconvert_exporter": "python",
   "pygments_lexer": "ipython3",
   "version": "3.12.9"
  }
 },
 "nbformat": 4,
 "nbformat_minor": 5
}
