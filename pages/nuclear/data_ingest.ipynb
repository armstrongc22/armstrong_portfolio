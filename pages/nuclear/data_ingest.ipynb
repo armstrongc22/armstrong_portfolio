{
 "cells": [
  {
   "cell_type": "code",
   "execution_count": 1,
   "id": "229423d2-e256-472f-87ef-f1cc28d14c0f",
   "metadata": {},
   "outputs": [],
   "source": [
    "import requests, pandas as pd\n",
    "from bs4 import BeautifulSoup\n",
    "\n",
    "def fetch_wikipedia_reactors():\n",
    "    url = \"https://en.wikipedia.org/wiki/List_of_nuclear_reactors\"\n",
    "    r = requests.get(url)\n",
    "    soup = BeautifulSoup(r.text, \"html.parser\")\n",
    "    # find the right table, parse into df...\n",
    "    tables = pd.read_html(r.text)\n",
    "    reactors = tables[0]  # adjust index as needed\n",
    "    reactors.to_csv(\"data/reactors.csv\", index=False)\n",
    "    return reactors\n"
   ]
  },
  {
   "cell_type": "code",
   "execution_count": 2,
   "id": "85330984-7314-4951-bf89-411ba38d1a60",
   "metadata": {},
   "outputs": [
    {
     "name": "stderr",
     "output_type": "stream",
     "text": [
      "C:\\Users\\Armstrong\\AppData\\Local\\Temp\\ipykernel_22380\\3949624661.py:9: FutureWarning: Passing literal html to 'read_html' is deprecated and will be removed in a future version. To read from a literal string, wrap it in a 'StringIO' object.\n",
      "  tables = pd.read_html(r.text)\n"
     ]
    },
    {
     "data": {
      "text/html": [
       "<div>\n",
       "<style scoped>\n",
       "    .dataframe tbody tr th:only-of-type {\n",
       "        vertical-align: middle;\n",
       "    }\n",
       "\n",
       "    .dataframe tbody tr th {\n",
       "        vertical-align: top;\n",
       "    }\n",
       "\n",
       "    .dataframe thead th {\n",
       "        text-align: right;\n",
       "    }\n",
       "</style>\n",
       "<table border=\"1\" class=\"dataframe\">\n",
       "  <thead>\n",
       "    <tr style=\"text-align: right;\">\n",
       "      <th></th>\n",
       "      <th>vteTypes of nuclear fission reactor</th>\n",
       "      <th>vteTypes of nuclear fission reactor.1</th>\n",
       "    </tr>\n",
       "  </thead>\n",
       "  <tbody>\n",
       "    <tr>\n",
       "      <th>0</th>\n",
       "      <td>Moderator</td>\n",
       "      <td>Moderator</td>\n",
       "    </tr>\n",
       "    <tr>\n",
       "      <th>1</th>\n",
       "      <td>Light water</td>\n",
       "      <td>Aqueous homogeneous Boiling BWR ABWR ESBWR Ker...</td>\n",
       "    </tr>\n",
       "    <tr>\n",
       "      <th>2</th>\n",
       "      <td>Heavy water by coolant</td>\n",
       "      <td>D2O Pressurized CANDU CANDU 6 CANDU 9 EC6 AFCR...</td>\n",
       "    </tr>\n",
       "    <tr>\n",
       "      <th>3</th>\n",
       "      <td>D2O</td>\n",
       "      <td>Pressurized CANDU CANDU 6 CANDU 9 EC6 AFCR ACR...</td>\n",
       "    </tr>\n",
       "    <tr>\n",
       "      <th>4</th>\n",
       "      <td>H2O</td>\n",
       "      <td>HWLWR ATR HW BLWR 250 Steam-generating (SGHWR)...</td>\n",
       "    </tr>\n",
       "    <tr>\n",
       "      <th>5</th>\n",
       "      <td>Organic</td>\n",
       "      <td>WR-1</td>\n",
       "    </tr>\n",
       "    <tr>\n",
       "      <th>6</th>\n",
       "      <td>CO2</td>\n",
       "      <td>HWGCR EL-4 KKN KS 150 Lucens</td>\n",
       "    </tr>\n",
       "    <tr>\n",
       "      <th>7</th>\n",
       "      <td>Graphite by coolant</td>\n",
       "      <td>WaterH2O AM-1 AMB-X EGP-6 RBMK MKER GasCO2 Ura...</td>\n",
       "    </tr>\n",
       "    <tr>\n",
       "      <th>8</th>\n",
       "      <td>Water</td>\n",
       "      <td>H2O AM-1 AMB-X EGP-6 RBMK MKER</td>\n",
       "    </tr>\n",
       "    <tr>\n",
       "      <th>9</th>\n",
       "      <td>H2O</td>\n",
       "      <td>AM-1 AMB-X EGP-6 RBMK MKER</td>\n",
       "    </tr>\n",
       "    <tr>\n",
       "      <th>10</th>\n",
       "      <td>Gas</td>\n",
       "      <td>CO2 Uranium Naturel Graphite Gaz (UNGG) Magnox...</td>\n",
       "    </tr>\n",
       "    <tr>\n",
       "      <th>11</th>\n",
       "      <td>CO2</td>\n",
       "      <td>Uranium Naturel Graphite Gaz (UNGG) Magnox Adv...</td>\n",
       "    </tr>\n",
       "    <tr>\n",
       "      <th>12</th>\n",
       "      <td>He</td>\n",
       "      <td>GTMHR MHR-T UHTREX VHTR (HTGR) PBR (PBMR) AVR ...</td>\n",
       "    </tr>\n",
       "    <tr>\n",
       "      <th>13</th>\n",
       "      <td>Molten-salt</td>\n",
       "      <td>Fluorides Fuji MSR Liquid-fluoride thorium rea...</td>\n",
       "    </tr>\n",
       "    <tr>\n",
       "      <th>14</th>\n",
       "      <td>Fluorides</td>\n",
       "      <td>Fuji MSR Liquid-fluoride thorium reactor (LFTR...</td>\n",
       "    </tr>\n",
       "    <tr>\n",
       "      <th>15</th>\n",
       "      <td>None (fast-neutron)</td>\n",
       "      <td>Breeder (FBR) Integral (IFR) Liquid-metal-cool...</td>\n",
       "    </tr>\n",
       "    <tr>\n",
       "      <th>16</th>\n",
       "      <td>Breeder (FBR) Integral (IFR) Liquid-metal-cool...</td>\n",
       "      <td>Breeder (FBR) Integral (IFR) Liquid-metal-cool...</td>\n",
       "    </tr>\n",
       "    <tr>\n",
       "      <th>17</th>\n",
       "      <td>Generation IV</td>\n",
       "      <td>Sodium (SFR) BN-350 BN-600 BN-800 BN-1200 CFR-...</td>\n",
       "    </tr>\n",
       "    <tr>\n",
       "      <th>18</th>\n",
       "      <td>Others</td>\n",
       "      <td>Organic nuclear reactor OMRE Arbus Piqua Aircr...</td>\n",
       "    </tr>\n",
       "    <tr>\n",
       "      <th>19</th>\n",
       "      <td>Nuclear fusion reactors  List of nuclear react...</td>\n",
       "      <td>Nuclear fusion reactors  List of nuclear react...</td>\n",
       "    </tr>\n",
       "  </tbody>\n",
       "</table>\n",
       "</div>"
      ],
      "text/plain": [
       "                  vteTypes of nuclear fission reactor  \\\n",
       "0                                           Moderator   \n",
       "1                                         Light water   \n",
       "2                              Heavy water by coolant   \n",
       "3                                                 D2O   \n",
       "4                                                 H2O   \n",
       "5                                             Organic   \n",
       "6                                                 CO2   \n",
       "7                                 Graphite by coolant   \n",
       "8                                               Water   \n",
       "9                                                 H2O   \n",
       "10                                                Gas   \n",
       "11                                                CO2   \n",
       "12                                                 He   \n",
       "13                                        Molten-salt   \n",
       "14                                          Fluorides   \n",
       "15                                None (fast-neutron)   \n",
       "16  Breeder (FBR) Integral (IFR) Liquid-metal-cool...   \n",
       "17                                      Generation IV   \n",
       "18                                             Others   \n",
       "19  Nuclear fusion reactors  List of nuclear react...   \n",
       "\n",
       "                vteTypes of nuclear fission reactor.1  \n",
       "0                                           Moderator  \n",
       "1   Aqueous homogeneous Boiling BWR ABWR ESBWR Ker...  \n",
       "2   D2O Pressurized CANDU CANDU 6 CANDU 9 EC6 AFCR...  \n",
       "3   Pressurized CANDU CANDU 6 CANDU 9 EC6 AFCR ACR...  \n",
       "4   HWLWR ATR HW BLWR 250 Steam-generating (SGHWR)...  \n",
       "5                                                WR-1  \n",
       "6                        HWGCR EL-4 KKN KS 150 Lucens  \n",
       "7   WaterH2O AM-1 AMB-X EGP-6 RBMK MKER GasCO2 Ura...  \n",
       "8                      H2O AM-1 AMB-X EGP-6 RBMK MKER  \n",
       "9                          AM-1 AMB-X EGP-6 RBMK MKER  \n",
       "10  CO2 Uranium Naturel Graphite Gaz (UNGG) Magnox...  \n",
       "11  Uranium Naturel Graphite Gaz (UNGG) Magnox Adv...  \n",
       "12  GTMHR MHR-T UHTREX VHTR (HTGR) PBR (PBMR) AVR ...  \n",
       "13  Fluorides Fuji MSR Liquid-fluoride thorium rea...  \n",
       "14  Fuji MSR Liquid-fluoride thorium reactor (LFTR...  \n",
       "15  Breeder (FBR) Integral (IFR) Liquid-metal-cool...  \n",
       "16  Breeder (FBR) Integral (IFR) Liquid-metal-cool...  \n",
       "17  Sodium (SFR) BN-350 BN-600 BN-800 BN-1200 CFR-...  \n",
       "18  Organic nuclear reactor OMRE Arbus Piqua Aircr...  \n",
       "19  Nuclear fusion reactors  List of nuclear react...  "
      ]
     },
     "execution_count": 2,
     "metadata": {},
     "output_type": "execute_result"
    }
   ],
   "source": [
    "fetch_wikipedia_reactors()"
   ]
  },
  {
   "cell_type": "code",
   "execution_count": 7,
   "id": "09142de6-d1fa-415d-8350-445ac450e2d5",
   "metadata": {},
   "outputs": [
    {
     "name": "stderr",
     "output_type": "stream",
     "text": [
      "C:\\Users\\Armstrong\\AppData\\Local\\Temp\\ipykernel_22380\\4262000673.py:33: FutureWarning: Passing literal html to 'read_html' is deprecated and will be removed in a future version. To read from a literal string, wrap it in a 'StringIO' object.\n",
      "  tables = pd.read_html(resp.text)\n"
     ]
    },
    {
     "name": "stdout",
     "output_type": "stream",
     "text": [
      "Fetched data for Argentina\n"
     ]
    },
    {
     "name": "stderr",
     "output_type": "stream",
     "text": [
      "C:\\Users\\Armstrong\\AppData\\Local\\Temp\\ipykernel_22380\\4262000673.py:33: FutureWarning: Passing literal html to 'read_html' is deprecated and will be removed in a future version. To read from a literal string, wrap it in a 'StringIO' object.\n",
      "  tables = pd.read_html(resp.text)\n"
     ]
    },
    {
     "name": "stdout",
     "output_type": "stream",
     "text": [
      "Fetched data for Armenia\n"
     ]
    },
    {
     "name": "stderr",
     "output_type": "stream",
     "text": [
      "C:\\Users\\Armstrong\\AppData\\Local\\Temp\\ipykernel_22380\\4262000673.py:33: FutureWarning: Passing literal html to 'read_html' is deprecated and will be removed in a future version. To read from a literal string, wrap it in a 'StringIO' object.\n",
      "  tables = pd.read_html(resp.text)\n"
     ]
    },
    {
     "name": "stdout",
     "output_type": "stream",
     "text": [
      "Fetched data for Bangladesh\n"
     ]
    },
    {
     "name": "stderr",
     "output_type": "stream",
     "text": [
      "C:\\Users\\Armstrong\\AppData\\Local\\Temp\\ipykernel_22380\\4262000673.py:33: FutureWarning: Passing literal html to 'read_html' is deprecated and will be removed in a future version. To read from a literal string, wrap it in a 'StringIO' object.\n",
      "  tables = pd.read_html(resp.text)\n"
     ]
    },
    {
     "name": "stdout",
     "output_type": "stream",
     "text": [
      "Fetched data for Belarus\n"
     ]
    },
    {
     "name": "stderr",
     "output_type": "stream",
     "text": [
      "C:\\Users\\Armstrong\\AppData\\Local\\Temp\\ipykernel_22380\\4262000673.py:33: FutureWarning: Passing literal html to 'read_html' is deprecated and will be removed in a future version. To read from a literal string, wrap it in a 'StringIO' object.\n",
      "  tables = pd.read_html(resp.text)\n"
     ]
    },
    {
     "name": "stdout",
     "output_type": "stream",
     "text": [
      "Fetched data for Belgium\n"
     ]
    },
    {
     "name": "stderr",
     "output_type": "stream",
     "text": [
      "C:\\Users\\Armstrong\\AppData\\Local\\Temp\\ipykernel_22380\\4262000673.py:33: FutureWarning: Passing literal html to 'read_html' is deprecated and will be removed in a future version. To read from a literal string, wrap it in a 'StringIO' object.\n",
      "  tables = pd.read_html(resp.text)\n"
     ]
    },
    {
     "name": "stdout",
     "output_type": "stream",
     "text": [
      "Fetched data for Brazil\n"
     ]
    },
    {
     "name": "stderr",
     "output_type": "stream",
     "text": [
      "C:\\Users\\Armstrong\\AppData\\Local\\Temp\\ipykernel_22380\\4262000673.py:33: FutureWarning: Passing literal html to 'read_html' is deprecated and will be removed in a future version. To read from a literal string, wrap it in a 'StringIO' object.\n",
      "  tables = pd.read_html(resp.text)\n"
     ]
    },
    {
     "name": "stdout",
     "output_type": "stream",
     "text": [
      "Fetched data for Bulgaria\n"
     ]
    },
    {
     "name": "stderr",
     "output_type": "stream",
     "text": [
      "C:\\Users\\Armstrong\\AppData\\Local\\Temp\\ipykernel_22380\\4262000673.py:33: FutureWarning: Passing literal html to 'read_html' is deprecated and will be removed in a future version. To read from a literal string, wrap it in a 'StringIO' object.\n",
      "  tables = pd.read_html(resp.text)\n"
     ]
    },
    {
     "name": "stdout",
     "output_type": "stream",
     "text": [
      "Fetched data for Canada\n"
     ]
    },
    {
     "name": "stderr",
     "output_type": "stream",
     "text": [
      "C:\\Users\\Armstrong\\AppData\\Local\\Temp\\ipykernel_22380\\4262000673.py:33: FutureWarning: Passing literal html to 'read_html' is deprecated and will be removed in a future version. To read from a literal string, wrap it in a 'StringIO' object.\n",
      "  tables = pd.read_html(resp.text)\n"
     ]
    },
    {
     "name": "stdout",
     "output_type": "stream",
     "text": [
      "Fetched data for China\n"
     ]
    },
    {
     "name": "stderr",
     "output_type": "stream",
     "text": [
      "C:\\Users\\Armstrong\\AppData\\Local\\Temp\\ipykernel_22380\\4262000673.py:33: FutureWarning: Passing literal html to 'read_html' is deprecated and will be removed in a future version. To read from a literal string, wrap it in a 'StringIO' object.\n",
      "  tables = pd.read_html(resp.text)\n"
     ]
    },
    {
     "name": "stdout",
     "output_type": "stream",
     "text": [
      "Fetched data for Czech Republic\n"
     ]
    },
    {
     "name": "stderr",
     "output_type": "stream",
     "text": [
      "C:\\Users\\Armstrong\\AppData\\Local\\Temp\\ipykernel_22380\\4262000673.py:33: FutureWarning: Passing literal html to 'read_html' is deprecated and will be removed in a future version. To read from a literal string, wrap it in a 'StringIO' object.\n",
      "  tables = pd.read_html(resp.text)\n"
     ]
    },
    {
     "name": "stdout",
     "output_type": "stream",
     "text": [
      "Fetched data for Egypt\n"
     ]
    },
    {
     "name": "stderr",
     "output_type": "stream",
     "text": [
      "C:\\Users\\Armstrong\\AppData\\Local\\Temp\\ipykernel_22380\\4262000673.py:33: FutureWarning: Passing literal html to 'read_html' is deprecated and will be removed in a future version. To read from a literal string, wrap it in a 'StringIO' object.\n",
      "  tables = pd.read_html(resp.text)\n"
     ]
    },
    {
     "name": "stdout",
     "output_type": "stream",
     "text": [
      "Fetched data for Finland\n"
     ]
    },
    {
     "name": "stderr",
     "output_type": "stream",
     "text": [
      "C:\\Users\\Armstrong\\AppData\\Local\\Temp\\ipykernel_22380\\4262000673.py:33: FutureWarning: Passing literal html to 'read_html' is deprecated and will be removed in a future version. To read from a literal string, wrap it in a 'StringIO' object.\n",
      "  tables = pd.read_html(resp.text)\n"
     ]
    },
    {
     "name": "stdout",
     "output_type": "stream",
     "text": [
      "Fetched data for France\n"
     ]
    },
    {
     "name": "stderr",
     "output_type": "stream",
     "text": [
      "C:\\Users\\Armstrong\\AppData\\Local\\Temp\\ipykernel_22380\\4262000673.py:33: FutureWarning: Passing literal html to 'read_html' is deprecated and will be removed in a future version. To read from a literal string, wrap it in a 'StringIO' object.\n",
      "  tables = pd.read_html(resp.text)\n"
     ]
    },
    {
     "name": "stdout",
     "output_type": "stream",
     "text": [
      "Fetched data for Germany\n"
     ]
    },
    {
     "name": "stderr",
     "output_type": "stream",
     "text": [
      "C:\\Users\\Armstrong\\AppData\\Local\\Temp\\ipykernel_22380\\4262000673.py:33: FutureWarning: Passing literal html to 'read_html' is deprecated and will be removed in a future version. To read from a literal string, wrap it in a 'StringIO' object.\n",
      "  tables = pd.read_html(resp.text)\n"
     ]
    },
    {
     "name": "stdout",
     "output_type": "stream",
     "text": [
      "Fetched data for Hungary\n"
     ]
    },
    {
     "name": "stderr",
     "output_type": "stream",
     "text": [
      "C:\\Users\\Armstrong\\AppData\\Local\\Temp\\ipykernel_22380\\4262000673.py:33: FutureWarning: Passing literal html to 'read_html' is deprecated and will be removed in a future version. To read from a literal string, wrap it in a 'StringIO' object.\n",
      "  tables = pd.read_html(resp.text)\n"
     ]
    },
    {
     "name": "stdout",
     "output_type": "stream",
     "text": [
      "Fetched data for India\n"
     ]
    },
    {
     "name": "stderr",
     "output_type": "stream",
     "text": [
      "C:\\Users\\Armstrong\\AppData\\Local\\Temp\\ipykernel_22380\\4262000673.py:33: FutureWarning: Passing literal html to 'read_html' is deprecated and will be removed in a future version. To read from a literal string, wrap it in a 'StringIO' object.\n",
      "  tables = pd.read_html(resp.text)\n"
     ]
    },
    {
     "name": "stdout",
     "output_type": "stream",
     "text": [
      "Fetched data for Iran\n"
     ]
    },
    {
     "name": "stderr",
     "output_type": "stream",
     "text": [
      "C:\\Users\\Armstrong\\AppData\\Local\\Temp\\ipykernel_22380\\4262000673.py:33: FutureWarning: Passing literal html to 'read_html' is deprecated and will be removed in a future version. To read from a literal string, wrap it in a 'StringIO' object.\n",
      "  tables = pd.read_html(resp.text)\n"
     ]
    },
    {
     "name": "stdout",
     "output_type": "stream",
     "text": [
      "Fetched data for Italy\n"
     ]
    },
    {
     "name": "stderr",
     "output_type": "stream",
     "text": [
      "C:\\Users\\Armstrong\\AppData\\Local\\Temp\\ipykernel_22380\\4262000673.py:33: FutureWarning: Passing literal html to 'read_html' is deprecated and will be removed in a future version. To read from a literal string, wrap it in a 'StringIO' object.\n",
      "  tables = pd.read_html(resp.text)\n"
     ]
    },
    {
     "name": "stdout",
     "output_type": "stream",
     "text": [
      "Fetched data for Japan\n"
     ]
    },
    {
     "name": "stderr",
     "output_type": "stream",
     "text": [
      "C:\\Users\\Armstrong\\AppData\\Local\\Temp\\ipykernel_22380\\4262000673.py:33: FutureWarning: Passing literal html to 'read_html' is deprecated and will be removed in a future version. To read from a literal string, wrap it in a 'StringIO' object.\n",
      "  tables = pd.read_html(resp.text)\n"
     ]
    },
    {
     "name": "stdout",
     "output_type": "stream",
     "text": [
      "Fetched data for Kazakhstan\n"
     ]
    },
    {
     "name": "stderr",
     "output_type": "stream",
     "text": [
      "C:\\Users\\Armstrong\\AppData\\Local\\Temp\\ipykernel_22380\\4262000673.py:33: FutureWarning: Passing literal html to 'read_html' is deprecated and will be removed in a future version. To read from a literal string, wrap it in a 'StringIO' object.\n",
      "  tables = pd.read_html(resp.text)\n"
     ]
    },
    {
     "name": "stdout",
     "output_type": "stream",
     "text": [
      "Fetched data for Lithuania\n"
     ]
    },
    {
     "name": "stderr",
     "output_type": "stream",
     "text": [
      "C:\\Users\\Armstrong\\AppData\\Local\\Temp\\ipykernel_22380\\4262000673.py:33: FutureWarning: Passing literal html to 'read_html' is deprecated and will be removed in a future version. To read from a literal string, wrap it in a 'StringIO' object.\n",
      "  tables = pd.read_html(resp.text)\n"
     ]
    },
    {
     "name": "stdout",
     "output_type": "stream",
     "text": [
      "Fetched data for Mexico\n"
     ]
    },
    {
     "name": "stderr",
     "output_type": "stream",
     "text": [
      "C:\\Users\\Armstrong\\AppData\\Local\\Temp\\ipykernel_22380\\4262000673.py:33: FutureWarning: Passing literal html to 'read_html' is deprecated and will be removed in a future version. To read from a literal string, wrap it in a 'StringIO' object.\n",
      "  tables = pd.read_html(resp.text)\n"
     ]
    },
    {
     "name": "stdout",
     "output_type": "stream",
     "text": [
      "Fetched data for Netherlands\n"
     ]
    },
    {
     "name": "stderr",
     "output_type": "stream",
     "text": [
      "C:\\Users\\Armstrong\\AppData\\Local\\Temp\\ipykernel_22380\\4262000673.py:33: FutureWarning: Passing literal html to 'read_html' is deprecated and will be removed in a future version. To read from a literal string, wrap it in a 'StringIO' object.\n",
      "  tables = pd.read_html(resp.text)\n"
     ]
    },
    {
     "name": "stdout",
     "output_type": "stream",
     "text": [
      "Fetched data for Pakistan\n"
     ]
    },
    {
     "name": "stderr",
     "output_type": "stream",
     "text": [
      "C:\\Users\\Armstrong\\AppData\\Local\\Temp\\ipykernel_22380\\4262000673.py:33: FutureWarning: Passing literal html to 'read_html' is deprecated and will be removed in a future version. To read from a literal string, wrap it in a 'StringIO' object.\n",
      "  tables = pd.read_html(resp.text)\n"
     ]
    },
    {
     "name": "stdout",
     "output_type": "stream",
     "text": [
      "Fetched data for Romania\n"
     ]
    },
    {
     "name": "stderr",
     "output_type": "stream",
     "text": [
      "C:\\Users\\Armstrong\\AppData\\Local\\Temp\\ipykernel_22380\\4262000673.py:33: FutureWarning: Passing literal html to 'read_html' is deprecated and will be removed in a future version. To read from a literal string, wrap it in a 'StringIO' object.\n",
      "  tables = pd.read_html(resp.text)\n"
     ]
    },
    {
     "name": "stdout",
     "output_type": "stream",
     "text": [
      "Fetched data for Russia\n"
     ]
    },
    {
     "name": "stderr",
     "output_type": "stream",
     "text": [
      "C:\\Users\\Armstrong\\AppData\\Local\\Temp\\ipykernel_22380\\4262000673.py:33: FutureWarning: Passing literal html to 'read_html' is deprecated and will be removed in a future version. To read from a literal string, wrap it in a 'StringIO' object.\n",
      "  tables = pd.read_html(resp.text)\n"
     ]
    },
    {
     "name": "stdout",
     "output_type": "stream",
     "text": [
      "Fetched data for Slovakia\n"
     ]
    },
    {
     "name": "stderr",
     "output_type": "stream",
     "text": [
      "C:\\Users\\Armstrong\\AppData\\Local\\Temp\\ipykernel_22380\\4262000673.py:33: FutureWarning: Passing literal html to 'read_html' is deprecated and will be removed in a future version. To read from a literal string, wrap it in a 'StringIO' object.\n",
      "  tables = pd.read_html(resp.text)\n"
     ]
    },
    {
     "name": "stdout",
     "output_type": "stream",
     "text": [
      "Fetched data for Slovenia\n"
     ]
    },
    {
     "name": "stderr",
     "output_type": "stream",
     "text": [
      "C:\\Users\\Armstrong\\AppData\\Local\\Temp\\ipykernel_22380\\4262000673.py:33: FutureWarning: Passing literal html to 'read_html' is deprecated and will be removed in a future version. To read from a literal string, wrap it in a 'StringIO' object.\n",
      "  tables = pd.read_html(resp.text)\n"
     ]
    },
    {
     "name": "stdout",
     "output_type": "stream",
     "text": [
      "Fetched data for South Africa\n"
     ]
    },
    {
     "name": "stderr",
     "output_type": "stream",
     "text": [
      "C:\\Users\\Armstrong\\AppData\\Local\\Temp\\ipykernel_22380\\4262000673.py:33: FutureWarning: Passing literal html to 'read_html' is deprecated and will be removed in a future version. To read from a literal string, wrap it in a 'StringIO' object.\n",
      "  tables = pd.read_html(resp.text)\n"
     ]
    },
    {
     "name": "stdout",
     "output_type": "stream",
     "text": [
      "Fetched data for South Korea\n"
     ]
    },
    {
     "name": "stderr",
     "output_type": "stream",
     "text": [
      "C:\\Users\\Armstrong\\AppData\\Local\\Temp\\ipykernel_22380\\4262000673.py:33: FutureWarning: Passing literal html to 'read_html' is deprecated and will be removed in a future version. To read from a literal string, wrap it in a 'StringIO' object.\n",
      "  tables = pd.read_html(resp.text)\n"
     ]
    },
    {
     "name": "stdout",
     "output_type": "stream",
     "text": [
      "Fetched data for Spain\n"
     ]
    },
    {
     "name": "stderr",
     "output_type": "stream",
     "text": [
      "C:\\Users\\Armstrong\\AppData\\Local\\Temp\\ipykernel_22380\\4262000673.py:33: FutureWarning: Passing literal html to 'read_html' is deprecated and will be removed in a future version. To read from a literal string, wrap it in a 'StringIO' object.\n",
      "  tables = pd.read_html(resp.text)\n"
     ]
    },
    {
     "name": "stdout",
     "output_type": "stream",
     "text": [
      "Fetched data for Sweden\n"
     ]
    },
    {
     "name": "stderr",
     "output_type": "stream",
     "text": [
      "C:\\Users\\Armstrong\\AppData\\Local\\Temp\\ipykernel_22380\\4262000673.py:33: FutureWarning: Passing literal html to 'read_html' is deprecated and will be removed in a future version. To read from a literal string, wrap it in a 'StringIO' object.\n",
      "  tables = pd.read_html(resp.text)\n"
     ]
    },
    {
     "name": "stdout",
     "output_type": "stream",
     "text": [
      "Fetched data for Switzerland\n"
     ]
    },
    {
     "name": "stderr",
     "output_type": "stream",
     "text": [
      "C:\\Users\\Armstrong\\AppData\\Local\\Temp\\ipykernel_22380\\4262000673.py:33: FutureWarning: Passing literal html to 'read_html' is deprecated and will be removed in a future version. To read from a literal string, wrap it in a 'StringIO' object.\n",
      "  tables = pd.read_html(resp.text)\n"
     ]
    },
    {
     "name": "stdout",
     "output_type": "stream",
     "text": [
      "Fetched data for Taiwan\n"
     ]
    },
    {
     "name": "stderr",
     "output_type": "stream",
     "text": [
      "C:\\Users\\Armstrong\\AppData\\Local\\Temp\\ipykernel_22380\\4262000673.py:33: FutureWarning: Passing literal html to 'read_html' is deprecated and will be removed in a future version. To read from a literal string, wrap it in a 'StringIO' object.\n",
      "  tables = pd.read_html(resp.text)\n"
     ]
    },
    {
     "name": "stdout",
     "output_type": "stream",
     "text": [
      "Fetched data for Turkey\n"
     ]
    },
    {
     "name": "stderr",
     "output_type": "stream",
     "text": [
      "C:\\Users\\Armstrong\\AppData\\Local\\Temp\\ipykernel_22380\\4262000673.py:33: FutureWarning: Passing literal html to 'read_html' is deprecated and will be removed in a future version. To read from a literal string, wrap it in a 'StringIO' object.\n",
      "  tables = pd.read_html(resp.text)\n"
     ]
    },
    {
     "name": "stdout",
     "output_type": "stream",
     "text": [
      "Fetched data for Ukraine\n"
     ]
    },
    {
     "name": "stderr",
     "output_type": "stream",
     "text": [
      "C:\\Users\\Armstrong\\AppData\\Local\\Temp\\ipykernel_22380\\4262000673.py:33: FutureWarning: Passing literal html to 'read_html' is deprecated and will be removed in a future version. To read from a literal string, wrap it in a 'StringIO' object.\n",
      "  tables = pd.read_html(resp.text)\n"
     ]
    },
    {
     "name": "stdout",
     "output_type": "stream",
     "text": [
      "Fetched data for United Arab Emirates\n"
     ]
    },
    {
     "name": "stderr",
     "output_type": "stream",
     "text": [
      "C:\\Users\\Armstrong\\AppData\\Local\\Temp\\ipykernel_22380\\4262000673.py:33: FutureWarning: Passing literal html to 'read_html' is deprecated and will be removed in a future version. To read from a literal string, wrap it in a 'StringIO' object.\n",
      "  tables = pd.read_html(resp.text)\n"
     ]
    },
    {
     "name": "stdout",
     "output_type": "stream",
     "text": [
      "Fetched data for United Kingdom\n"
     ]
    },
    {
     "name": "stderr",
     "output_type": "stream",
     "text": [
      "C:\\Users\\Armstrong\\AppData\\Local\\Temp\\ipykernel_22380\\4262000673.py:33: FutureWarning: Passing literal html to 'read_html' is deprecated and will be removed in a future version. To read from a literal string, wrap it in a 'StringIO' object.\n",
      "  tables = pd.read_html(resp.text)\n"
     ]
    },
    {
     "name": "stdout",
     "output_type": "stream",
     "text": [
      "Fetched data for United States Of America\n",
      "Combined dataset:\n",
      "  Reactor Name                             Model Process  Capacity (MWe)  \\\n",
      "0     Atucha 1                          PHWR KWU    PHWR           340.0   \n",
      "1     Atucha 2                          PHWR KWU    PHWR           693.0   \n",
      "2      Embalse                           CANDU 6    PHWR           608.0   \n",
      "3      Carem25  CAREM Prototype (Integrated-PWR)     PWR            25.0   \n",
      "4   Armenian 2                        VVER V-270     PWR           416.0   \n",
      "\n",
      "  Grid Connection Load Factor (2023) (%) Electricity Generated (2023) (GWh)  \\\n",
      "0      19/03/1974                   73.8                            2197.12   \n",
      "1      27/06/2014                   25.4                            1541.93   \n",
      "2      25/04/1983                   98.1                            5224.06   \n",
      "3             NaN                    NaN                                NaN   \n",
      "4      05/01/1980                   68.9                            2512.03   \n",
      "\n",
      "  Construction Start    Country  Net Capacity (MWe) Permanent Shutdown  \n",
      "0                NaN  Argentina                 NaN                NaN  \n",
      "1                NaN  Argentina                 NaN                NaN  \n",
      "2                NaN  Argentina                 NaN                NaN  \n",
      "3         08/02/2014  Argentina                 NaN                NaN  \n",
      "4                NaN    Armenia                 NaN                NaN  \n"
     ]
    }
   ],
   "source": [
    "import requests\n",
    "import pandas as pd\n",
    "from bs4 import BeautifulSoup\n",
    "import os\n",
    "import time\n",
    "\n",
    "def get_country_slugs():\n",
    "    \"\"\"\n",
    "    Fetches the country slugs from the World Nuclear Association Reactor Database summary page.\n",
    "    \"\"\"\n",
    "    url = 'https://world-nuclear.org/nuclear-reactor-database/summary'\n",
    "    headers = {'User-Agent': 'Mozilla/5.0'}\n",
    "    resp = requests.get(url, headers=headers)\n",
    "    resp.raise_for_status()\n",
    "    soup = BeautifulSoup(resp.text, 'html.parser')\n",
    "    \n",
    "    # Locate the country dropdown/select element\n",
    "    select = soup.find('select')\n",
    "    slugs = []\n",
    "    for option in select.find_all('option'):\n",
    "        slug = option.get('value', '').strip()\n",
    "        if slug:\n",
    "            slugs.append(slug)\n",
    "    return slugs\n",
    "\n",
    "def fetch_country_summary(slug, headers):\n",
    "    \"\"\"\n",
    "    Fetches and concatenates all tables from a specific country's summary page.\n",
    "    \"\"\"\n",
    "    url = f'https://world-nuclear.org/nuclear-reactor-database/summary/{slug}'\n",
    "    resp = requests.get(url, headers=headers)\n",
    "    resp.raise_for_status()\n",
    "    tables = pd.read_html(resp.text)\n",
    "    df = pd.concat(tables, ignore_index=True)\n",
    "    df['Country'] = slug.replace('%20', ' ')\n",
    "    return df\n",
    "\n",
    "def scrape_all_countries(output_csv='data/wn_all_countries_reactors.csv'):\n",
    "    \"\"\"\n",
    "    Scrapes reactor data for all countries and saves combined CSV.\n",
    "    \"\"\"\n",
    "    # Ensure data directory exists\n",
    "    os.makedirs(os.path.dirname(output_csv), exist_ok=True)\n",
    "    \n",
    "    headers = {'User-Agent': 'Mozilla/5.0'}\n",
    "    slugs = get_country_slugs()\n",
    "    all_dfs = []\n",
    "    \n",
    "    for slug in slugs:\n",
    "        try:\n",
    "            df = fetch_country_summary(slug, headers)\n",
    "            all_dfs.append(df)\n",
    "            print(f\"Fetched data for {slug}\")\n",
    "        except Exception as e:\n",
    "            print(f\"Error fetching {slug}: {e}\")\n",
    "        time.sleep(1)  # Be polite to the server\n",
    "    \n",
    "    combined = pd.concat(all_dfs, ignore_index=True)\n",
    "    combined.to_csv(output_csv, index=False)\n",
    "    return combined\n",
    "\n",
    "if __name__ == \"__main__\":\n",
    "    df_all = scrape_all_countries()\n",
    "    print(\"Combined dataset:\")\n",
    "    print(df_all.head())\n",
    "\n"
   ]
  },
  {
   "cell_type": "code",
   "execution_count": 10,
   "id": "294705a1-6c28-4197-b632-9434c241dc38",
   "metadata": {},
   "outputs": [
    {
     "name": "stdout",
     "output_type": "stream",
     "text": [
      "Cleaned Uranium production data:\n",
      "             Country   2013   2014   2015   2016   2017   2018   2019   2020  \\\n",
      "0         Kazakhstan  22451  23127  23607  24689  23321  21705  22808  19477   \n",
      "1             Canada   9331   9124  13325  14039  13116   7001   6938   3885   \n",
      "2            Namibia   4323   3255   2993   3654   4224   5525   5476   5413   \n",
      "3          Australia   6350   5001   5654   6315   5882   6517   6613   6203   \n",
      "4  Uzbekistan (est.)   2400   2400   2385   3325   3400   3450   3500   3500   \n",
      "\n",
      "    2021   2022  \n",
      "0  21819  21227  \n",
      "1   4693   7351  \n",
      "2   5753   5613  \n",
      "3   4192   4553  \n",
      "4   3520   3300  \n"
     ]
    },
    {
     "name": "stderr",
     "output_type": "stream",
     "text": [
      "C:\\Users\\Armstrong\\AppData\\Local\\Temp\\ipykernel_22380\\818903822.py:16: FutureWarning: Passing literal html to 'read_html' is deprecated and will be removed in a future version. To read from a literal string, wrap it in a 'StringIO' object.\n",
      "  tables = pd.read_html(resp.text)\n"
     ]
    }
   ],
   "source": [
    "import requests\n",
    "import pandas as pd\n",
    "from bs4 import BeautifulSoup\n",
    "\n",
    "def fetch_uranium_production_cleaned(output_csv: str) -> pd.DataFrame:\n",
    "    \"\"\"\n",
    "    Scrapes and cleans the 'Uranium production figures' table from WNA.\n",
    "    Handles repeated headers and non-numeric rows gracefully.\n",
    "    \"\"\"\n",
    "    url = \"https://world-nuclear.org/Information-Library/Facts-and-Figures/Uranium-production-figures\"\n",
    "    headers = {\"User-Agent\": \"Mozilla/5.0\"}\n",
    "    resp = requests.get(url, headers=headers)\n",
    "    resp.raise_for_status()\n",
    "\n",
    "    # Parse all tables; pick the one with 'Country' in the first column\n",
    "    tables = pd.read_html(resp.text)\n",
    "    df = None\n",
    "    for tbl in tables:\n",
    "        cols = [str(c).strip() for c in tbl.columns]\n",
    "        if 'Country' in cols:\n",
    "            df = tbl.copy()\n",
    "            break\n",
    "    if df is None:\n",
    "        raise ValueError(\"Could not locate the uranium production table.\")\n",
    "\n",
    "    # Drop any rows where Country = 'Country' (repeated header rows)\n",
    "    df = df[df['Country'] != 'Country'].reset_index(drop=True)\n",
    "\n",
    "    # Clean numeric columns: all except 'Country'\n",
    "    for col in df.columns:\n",
    "        if col == 'Country':\n",
    "            continue\n",
    "        # Remove commas, strip, coerce to numeric, fill NaN with 0\n",
    "        df[col] = (\n",
    "            df[col]\n",
    "            .astype(str)\n",
    "            .str.replace(\",\", \"\", regex=False)\n",
    "            .str.strip()\n",
    "            .replace(\"\", \"0\")\n",
    "        )\n",
    "        df[col] = pd.to_numeric(df[col], errors='coerce').fillna(0).astype(int)\n",
    "\n",
    "    # Save cleaned data\n",
    "    df.to_csv(output_csv, index=False)\n",
    "    return df\n",
    "\n",
    "# Example usage:\n",
    "if __name__ == \"__main__\":\n",
    "    df_uranium = fetch_uranium_production_cleaned(\"data/uranium_production_cleaned.csv\")\n",
    "    print(\"Cleaned Uranium production data:\")\n",
    "    print(df_uranium.head())\n",
    "\n"
   ]
  },
  {
   "cell_type": "code",
   "execution_count": 11,
   "id": "62fafa03-60a2-4af8-add1-080503d5cd5a",
   "metadata": {},
   "outputs": [
    {
     "name": "stdout",
     "output_type": "stream",
     "text": [
      "Scraped Nuclear Generation by Country:\n",
      "      Country  Nuclear share of electricity (%)2013  \\\n",
      "0   Argentina                                   4.4   \n",
      "1     Armenia                                  29.2   \n",
      "2     Belarus                                   0.0   \n",
      "3     Belgium                                  52.1   \n",
      "4      Brazil                                   2.8   \n",
      "5    Bulgaria                                  30.7   \n",
      "6      Canada                                  16.0   \n",
      "7      China:                                   0.0   \n",
      "8  - Mainland                                   2.1   \n",
      "9    - Taiwan                                  19.1   \n",
      "\n",
      "   Nuclear share of electricity (%)2014  Nuclear share of electricity (%)2015  \\\n",
      "0                                   4.0                                   4.8   \n",
      "1                                  30.7                                  34.5   \n",
      "2                                   0.0                                   0.0   \n",
      "3                                  47.5                                  37.5   \n",
      "4                                   2.9                                   2.8   \n",
      "5                                  31.8                                  31.3   \n",
      "6                                  16.8                                  16.6   \n",
      "7                                   0.0                                   0.0   \n",
      "8                                   2.4                                   3.0   \n",
      "9                                  18.9                                  16.3   \n",
      "\n",
      "   Nuclear share of electricity (%)2016  Nuclear share of electricity (%)2017  \\\n",
      "0                                   5.6                                   4.5   \n",
      "1                                  31.4                                  32.5   \n",
      "2                                   0.0                                   0.0   \n",
      "3                                  51.7                                  49.9   \n",
      "4                                   2.9                                   2.7   \n",
      "5                                  35.0                                  34.3   \n",
      "6                                  15.6                                  14.6   \n",
      "7                                   0.0                                   0.0   \n",
      "8                                   3.6                                   3.9   \n",
      "9                                  13.7                                   9.2   \n",
      "\n",
      "   Nuclear share of electricity (%)2018  Nuclear share of electricity (%)2019  \\\n",
      "0                                   4.7                                   5.9   \n",
      "1                                  25.6                                  27.8   \n",
      "2                                   0.0                                   0.0   \n",
      "3                                  39.0                                  47.6   \n",
      "4                                   2.7                                   2.7   \n",
      "5                                  34.7                                  37.5   \n",
      "6                                  14.9                                  14.9   \n",
      "7                                   0.0                                   0.0   \n",
      "8                                   4.2                                   4.9   \n",
      "9                                  11.4                                  13.4   \n",
      "\n",
      "   Nuclear share of electricity (%)2020  Nuclear share of electricity (%)2021  \\\n",
      "0                                   7.5                                   7.2   \n",
      "1                                  34.5                                  25.3   \n",
      "2                                   1.0                                  14.1   \n",
      "3                                  39.1                                  50.8   \n",
      "4                                   2.1                                   2.4   \n",
      "5                                  40.8                                  34.6   \n",
      "6                                  14.6                                  14.3   \n",
      "7                                   0.0                                   0.0   \n",
      "8                                   4.9                                   5.0   \n",
      "9                                  12.7                                  10.8   \n",
      "\n",
      "   Nuclear share of electricity (%)2022  Nuclear share of electricity (%)2023  \\\n",
      "0                                   5.4                                   6.3   \n",
      "1                                  31.0                                  31.1   \n",
      "2                                  11.9                                  28.6   \n",
      "3                                  46.4                                  41.2   \n",
      "4                                   2.5                                   2.2   \n",
      "5                                  32.6                                  40.4   \n",
      "6                                  12.9                                  13.7   \n",
      "7                                   0.0                                   0.0   \n",
      "8                                   5.0                                   4.9   \n",
      "9                                   9.1                                   6.9   \n",
      "\n",
      "   Nuclear electricity  production (billion kWh)2022  \\\n",
      "0                                                7.5   \n",
      "1                                                2.6   \n",
      "2                                                4.4   \n",
      "3                                               41.7   \n",
      "4                                               13.7   \n",
      "5                                               15.8   \n",
      "6                                               81.7   \n",
      "7                                                0.0   \n",
      "8                                              395.4   \n",
      "9                                               22.9   \n",
      "\n",
      "   Nuclear electricity  production (billion kWh)2023  \n",
      "0                                               9.00  \n",
      "1                                               2.50  \n",
      "2                                              11.00  \n",
      "3                                              31.30  \n",
      "4                                              13.70  \n",
      "5                                              15.50  \n",
      "6                                              83.50  \n",
      "7                                               0.00  \n",
      "8                                             406.50  \n",
      "9                                              17.15  \n"
     ]
    },
    {
     "name": "stderr",
     "output_type": "stream",
     "text": [
      "C:\\Users\\Armstrong\\AppData\\Local\\Temp\\ipykernel_22380\\3082047454.py:17: FutureWarning: Passing literal html to 'read_html' is deprecated and will be removed in a future version. To read from a literal string, wrap it in a 'StringIO' object.\n",
      "  tables = pd.read_html(resp.text)\n"
     ]
    }
   ],
   "source": [
    "import requests\n",
    "import pandas as pd\n",
    "from bs4 import BeautifulSoup\n",
    "\n",
    "def fetch_nuclear_generation_by_country(output_csv: str) -> pd.DataFrame:\n",
    "    \"\"\"\n",
    "    Scrapes the 'Nuclear generation by country' table from WNA and saves it to CSV.\n",
    "    \"\"\"\n",
    "    url = \"https://world-nuclear.org/Information-Library/Facts-and-Figures/nuclear-generation-by-country\"\n",
    "    headers = {\"User-Agent\": \"Mozilla/5.0\"}\n",
    "    \n",
    "    # Attempt to fetch page\n",
    "    resp = requests.get(url, headers=headers)\n",
    "    resp.raise_for_status()\n",
    "\n",
    "    # Parse all tables with pandas\n",
    "    tables = pd.read_html(resp.text)\n",
    "    \n",
    "    # Identify the correct table by looking for 'Country or area' in the columns\n",
    "    for tbl in tables:\n",
    "        cols = [str(c).strip() for c in tbl.columns.get_level_values(0)]\n",
    "        if \"Country or area\" in cols:\n",
    "            df = tbl.copy()\n",
    "            break\n",
    "    else:\n",
    "        raise ValueError(\"Could not find the nuclear generation table.\")\n",
    "\n",
    "    # Flatten multi-level header\n",
    "    # Combine level0 and level1 names, ignoring NaNs and 'Unnamed'\n",
    "    new_cols = []\n",
    "    for level0, level1 in df.columns:\n",
    "        header = str(level0).strip()\n",
    "        if pd.notna(level1) and not str(level1).startswith(\"Unnamed\"):\n",
    "            header += f\" {level1}\".strip()\n",
    "        new_cols.append(header)\n",
    "    df.columns = new_cols\n",
    "\n",
    "    # Rename the first column for simplicity\n",
    "    df = df.rename(columns={\"Country or area\": \"Country\"})\n",
    "\n",
    "    # Clean numeric columns: remove commas, convert to numeric\n",
    "    for col in df.columns:\n",
    "        if col == \"Country\":\n",
    "            continue\n",
    "        df[col] = (\n",
    "            df[col]\n",
    "            .astype(str)\n",
    "            .str.replace(\",\", \"\", regex=False)\n",
    "            .str.strip()\n",
    "            .replace(\"\", \"0\")\n",
    "        )\n",
    "        df[col] = pd.to_numeric(df[col], errors=\"coerce\").fillna(0)\n",
    "\n",
    "    # Save to CSV\n",
    "    df.to_csv(output_csv, index=False)\n",
    "    return df\n",
    "\n",
    "# Example usage\n",
    "if __name__ == \"__main__\":\n",
    "    df_gen = fetch_nuclear_generation_by_country(\"data/nuclear_generation_by_country.csv\")\n",
    "    print(\"Scraped Nuclear Generation by Country:\")\n",
    "    print(df_gen.head(10))\n"
   ]
  },
  {
   "cell_type": "code",
   "execution_count": 19,
   "id": "7832bd46-97a0-4cb9-9298-3f854fa4abed",
   "metadata": {},
   "outputs": [
    {
     "name": "stdout",
     "output_type": "stream",
     "text": [
      "Table 0 cols: MultiIndex([(                  'Operator', 'Operator'),\n",
      "            ('Capacity (thousand SWU/yr)',     '2022'),\n",
      "            ('Capacity (thousand SWU/yr)',     '2025'),\n",
      "            ('Capacity (thousand SWU/yr)',     '2030')],\n",
      "           )\n"
     ]
    },
    {
     "name": "stderr",
     "output_type": "stream",
     "text": [
      "C:\\Users\\Armstrong\\AppData\\Local\\Temp\\ipykernel_22380\\1363972361.py:21: FutureWarning: Passing literal html to 'read_html' is deprecated and will be removed in a future version. To read from a literal string, wrap it in a 'StringIO' object.\n",
      "  tables = pd.read_html(html)\n"
     ]
    },
    {
     "ename": "ValueError",
     "evalue": "Could not find the uranium enrichment capacity table.",
     "output_type": "error",
     "traceback": [
      "\u001b[1;31m---------------------------------------------------------------------------\u001b[0m",
      "\u001b[1;31mValueError\u001b[0m                                Traceback (most recent call last)",
      "Cell \u001b[1;32mIn[19], line 72\u001b[0m\n\u001b[0;32m     67\u001b[0m \u001b[38;5;66;03m# Example usage:\u001b[39;00m\n\u001b[0;32m     68\u001b[0m \u001b[38;5;28;01mif\u001b[39;00m \u001b[38;5;18m__name__\u001b[39m \u001b[38;5;241m==\u001b[39m \u001b[38;5;124m\"\u001b[39m\u001b[38;5;124m__main__\u001b[39m\u001b[38;5;124m\"\u001b[39m:\n\u001b[0;32m     69\u001b[0m     \u001b[38;5;66;03m# Option 1: Direct HTTP\u001b[39;00m\n\u001b[0;32m     70\u001b[0m     \u001b[38;5;66;03m# df_enrich = fetch_uranium_enrichment_capacity(\"data/uranium_enrichment_capacity.csv\")\u001b[39;00m\n\u001b[0;32m     71\u001b[0m     \u001b[38;5;66;03m# Option 2: Local HTML fallback\u001b[39;00m\n\u001b[1;32m---> 72\u001b[0m     df_enrich \u001b[38;5;241m=\u001b[39m fetch_uranium_enrichment_capacity(\n\u001b[0;32m     73\u001b[0m         \u001b[38;5;124m\"\u001b[39m\u001b[38;5;124mdata/uranium_enrichment_capacity.csv\u001b[39m\u001b[38;5;124m\"\u001b[39m,\n\u001b[0;32m     74\u001b[0m         html_path\u001b[38;5;241m=\u001b[39m\u001b[38;5;124mr\u001b[39m\u001b[38;5;124m\"\u001b[39m\u001b[38;5;124mC:\u001b[39m\u001b[38;5;124m\\\u001b[39m\u001b[38;5;124mUsers\u001b[39m\u001b[38;5;124m\\\u001b[39m\u001b[38;5;124mArmstrong\u001b[39m\u001b[38;5;124m\\\u001b[39m\u001b[38;5;124mnuclear\u001b[39m\u001b[38;5;124m\\\u001b[39m\u001b[38;5;124mnotebooks\u001b[39m\u001b[38;5;124m\\\u001b[39m\u001b[38;5;124muranium_enrichment.html\u001b[39m\u001b[38;5;124m\"\u001b[39m\n\u001b[0;32m     75\u001b[0m     )\n\u001b[0;32m     76\u001b[0m     \u001b[38;5;28mprint\u001b[39m(df_enrich)\n",
      "Cell \u001b[1;32mIn[19], line 51\u001b[0m, in \u001b[0;36mfetch_uranium_enrichment_capacity\u001b[1;34m(output_csv, html_path)\u001b[0m\n\u001b[0;32m     49\u001b[0m     \u001b[38;5;28;01mfor\u001b[39;00m i, tbl \u001b[38;5;129;01min\u001b[39;00m \u001b[38;5;28menumerate\u001b[39m(tables):\n\u001b[0;32m     50\u001b[0m         \u001b[38;5;28mprint\u001b[39m(\u001b[38;5;124mf\u001b[39m\u001b[38;5;124m\"\u001b[39m\u001b[38;5;124mTable \u001b[39m\u001b[38;5;132;01m{\u001b[39;00mi\u001b[38;5;132;01m}\u001b[39;00m\u001b[38;5;124m cols:\u001b[39m\u001b[38;5;124m\"\u001b[39m, tbl\u001b[38;5;241m.\u001b[39mcolumns)\n\u001b[1;32m---> 51\u001b[0m     \u001b[38;5;28;01mraise\u001b[39;00m \u001b[38;5;167;01mValueError\u001b[39;00m(\u001b[38;5;124m\"\u001b[39m\u001b[38;5;124mCould not find the uranium enrichment capacity table.\u001b[39m\u001b[38;5;124m\"\u001b[39m)\n\u001b[0;32m     53\u001b[0m \u001b[38;5;66;03m# Clean numeric columns\u001b[39;00m\n\u001b[0;32m     54\u001b[0m \u001b[38;5;28;01mfor\u001b[39;00m col \u001b[38;5;129;01min\u001b[39;00m selected_df\u001b[38;5;241m.\u001b[39mcolumns:\n",
      "\u001b[1;31mValueError\u001b[0m: Could not find the uranium enrichment capacity table."
     ]
    }
   ],
   "source": [
    "import requests\n",
    "import pandas as pd\n",
    "from bs4 import BeautifulSoup\n",
    "\n",
    "def fetch_uranium_enrichment_capacity(output_csv: str, html_path: str = None) -> pd.DataFrame:\n",
    "    \"\"\"\n",
    "    Scrapes the uranium enrichment capacity table from WNA, handling multi-index headers.\n",
    "    If html_path is provided, reads from local file instead of HTTP.\n",
    "    \"\"\"\n",
    "    if html_path:\n",
    "        with open(html_path, \"r\", encoding=\"utf-8\") as f:\n",
    "            html = f.read()\n",
    "    else:\n",
    "        url = \"https://world-nuclear.org/information-library/nuclear-fuel-cycle/conversion-enrichment-and-fabrication/uranium-enrichment\"\n",
    "        headers = {\"User-Agent\": \"Mozilla/5.0\"}\n",
    "        resp = requests.get(url, headers=headers, timeout=15)\n",
    "        resp.raise_for_status()\n",
    "        html = resp.text\n",
    "\n",
    "    # Parse all tables\n",
    "    tables = pd.read_html(html)\n",
    "    selected_df = None\n",
    "\n",
    "    for tbl in tables:\n",
    "        # Flatten columns\n",
    "        cols = tbl.columns\n",
    "        flat_cols = []\n",
    "        if isinstance(cols, pd.MultiIndex):\n",
    "            for top, sub in cols:\n",
    "                top = str(top).strip()\n",
    "                sub = str(sub).strip()\n",
    "                if sub and not sub.startswith(\"Unnamed\"):\n",
    "                    header = f\"{top} {sub}\"\n",
    "                else:\n",
    "                    header = top\n",
    "                flat_cols.append(header)\n",
    "        else:\n",
    "            flat_cols = [str(c).strip() for c in cols]\n",
    "\n",
    "        # Check if this is the correct table\n",
    "        if \"Operator\" in flat_cols and \"2022\" in flat_cols:\n",
    "            df = tbl.copy()\n",
    "            df.columns = flat_cols\n",
    "            selected_df = df\n",
    "            break\n",
    "\n",
    "    if selected_df is None:\n",
    "        # For debugging: list column sets\n",
    "        for i, tbl in enumerate(tables):\n",
    "            print(f\"Table {i} cols:\", tbl.columns)\n",
    "        raise ValueError(\"Could not find the uranium enrichment capacity table.\")\n",
    "\n",
    "    # Clean numeric columns\n",
    "    for col in selected_df.columns:\n",
    "        if col == \"Operator\":\n",
    "            continue\n",
    "        selected_df[col] = (\n",
    "            selected_df[col]\n",
    "            .astype(str).str.replace(\",\", \"\", regex=False).str.strip()\n",
    "            .replace(\"\", \"0\")\n",
    "        )\n",
    "        selected_df[col] = pd.to_numeric(selected_df[col], errors=\"coerce\").fillna(0).astype(int)\n",
    "\n",
    "    selected_df.to_csv(output_csv, index=False)\n",
    "    return selected_df\n",
    "\n",
    "# Example usage:\n",
    "if __name__ == \"__main__\":\n",
    "    # Option 1: Direct HTTP\n",
    "    # df_enrich = fetch_uranium_enrichment_capacity(\"data/uranium_enrichment_capacity.csv\")\n",
    "    # Option 2: Local HTML fallback\n",
    "    df_enrich = fetch_uranium_enrichment_capacity(\n",
    "        \"data/uranium_enrichment_capacity.csv\",\n",
    "        html_path=r\"C:\\Users\\Armstrong\\nuclear\\notebooks\\uranium_enrichment.html\"\n",
    "    )\n",
    "    print(df_enrich)\n"
   ]
  },
  {
   "cell_type": "code",
   "execution_count": 20,
   "id": "a2c0a004-f703-4a78-b94a-ae62b2034d0b",
   "metadata": {},
   "outputs": [
    {
     "name": "stdout",
     "output_type": "stream",
     "text": [
      "Enrichment table located via header search:\n",
      "            Operator Capacity (thousand SWU/yr)              \n",
      "            Operator                       2022   2025   2030\n",
      "0               CNNC                       8900  10000  17000\n",
      "1              Orano                       7500   7500   7500\n",
      "2            Rosatom                      27100  27100  27100\n",
      "3             Urenco                      17900  17900  17900\n",
      "4  Other (INB, JNFL)                        100    400    800\n",
      "\n",
      "Fallback: Listing all parsed tables:\n",
      "\n",
      "Table 0 (shape (6, 4)):\n",
      "            Operator Capacity (thousand SWU/yr)              \n",
      "            Operator                       2022   2025   2030\n",
      "0               CNNC                       8900  10000  17000\n",
      "1              Orano                       7500   7500   7500\n",
      "2            Rosatom                      27100  27100  27100\n",
      "3             Urenco                      17900  17900  17900\n",
      "4  Other (INB, JNFL)                        100    400    800\n"
     ]
    }
   ],
   "source": [
    "import io\n",
    "import pandas as pd\n",
    "from bs4 import BeautifulSoup\n",
    "\n",
    "# Path to the locally saved HTML file (adjust if needed)\n",
    "html_path = r\"C:\\Users\\Armstrong\\nuclear\\notebooks\\uranium_enrichment.html\"\n",
    "\n",
    "# 1) Load the HTML content\n",
    "with open(html_path, \"r\", encoding=\"utf-8\") as f:\n",
    "    html = f.read()\n",
    "\n",
    "# 2) Use BeautifulSoup to locate the section for enrichment capacity\n",
    "soup = BeautifulSoup(html, \"html.parser\")\n",
    "\n",
    "# Try finding a header that mentions \"Enrichment\"\n",
    "header = soup.find(lambda tag: tag.name in [\"h2\", \"h3\"] and \"Enrichment\" in tag.get_text())\n",
    "if header:\n",
    "    # Get the first table following that header\n",
    "    table_tag = header.find_next(\"table\")\n",
    "    if table_tag:\n",
    "        # Parse that table\n",
    "        df_enrich = pd.read_html(io.StringIO(str(table_tag)))[0]\n",
    "        print(\"Enrichment table located via header search:\")\n",
    "        print(df_enrich.head())\n",
    "    else:\n",
    "        print(\"Header found but no subsequent <table> tag present.\")\n",
    "else:\n",
    "    print(\"No header containing 'Enrichment' found.\")\n",
    "\n",
    "# 3) As a fallback, list all tables with their index, shape, and first rows\n",
    "print(\"\\nFallback: Listing all parsed tables:\")\n",
    "tables = pd.read_html(io.StringIO(html))\n",
    "for idx, tbl in enumerate(tables):\n",
    "    print(f\"\\nTable {idx} (shape {tbl.shape}):\")\n",
    "    print(tbl.head())\n"
   ]
  },
  {
   "cell_type": "code",
   "execution_count": 27,
   "id": "f34a9d5e-b487-4bc5-9976-fa00159eb53d",
   "metadata": {},
   "outputs": [
    {
     "ename": "FileNotFoundError",
     "evalue": "[Errno 2] No such file or directory: 'data/uranium_enrichment.html'",
     "output_type": "error",
     "traceback": [
      "\u001b[1;31m---------------------------------------------------------------------------\u001b[0m",
      "\u001b[1;31mFileNotFoundError\u001b[0m                         Traceback (most recent call last)",
      "Cell \u001b[1;32mIn[27], line 55\u001b[0m\n\u001b[0;32m     53\u001b[0m \u001b[38;5;66;03m# Example usage:\u001b[39;00m\n\u001b[0;32m     54\u001b[0m \u001b[38;5;28;01mif\u001b[39;00m \u001b[38;5;18m__name__\u001b[39m \u001b[38;5;241m==\u001b[39m \u001b[38;5;124m\"\u001b[39m\u001b[38;5;124m__main__\u001b[39m\u001b[38;5;124m\"\u001b[39m:\n\u001b[1;32m---> 55\u001b[0m     df_clean \u001b[38;5;241m=\u001b[39m fetch_uranium_enrichment_capacity_clean(\n\u001b[0;32m     56\u001b[0m         output_csv\u001b[38;5;241m=\u001b[39m\u001b[38;5;124m\"\u001b[39m\u001b[38;5;124mdata/uranium_enrichment_capacity_clean.csv\u001b[39m\u001b[38;5;124m\"\u001b[39m,\n\u001b[0;32m     57\u001b[0m         html_path\u001b[38;5;241m=\u001b[39m\u001b[38;5;124m\"\u001b[39m\u001b[38;5;124mdata/uranium_enrichment.html\u001b[39m\u001b[38;5;124m\"\u001b[39m\n\u001b[0;32m     58\u001b[0m     )\n\u001b[0;32m     59\u001b[0m     \u001b[38;5;28mprint\u001b[39m(df_clean)\n",
      "Cell \u001b[1;32mIn[27], line 11\u001b[0m, in \u001b[0;36mfetch_uranium_enrichment_capacity_clean\u001b[1;34m(output_csv, html_path)\u001b[0m\n\u001b[0;32m      6\u001b[0m \u001b[38;5;250m\u001b[39m\u001b[38;5;124;03m\"\"\"\u001b[39;00m\n\u001b[0;32m      7\u001b[0m \u001b[38;5;124;03mScrapes and cleans the uranium enrichment capacity table, dropping repeated headers.\u001b[39;00m\n\u001b[0;32m      8\u001b[0m \u001b[38;5;124;03mReads from local HTML file at html_path.\u001b[39;00m\n\u001b[0;32m      9\u001b[0m \u001b[38;5;124;03m\"\"\"\u001b[39;00m\n\u001b[0;32m     10\u001b[0m \u001b[38;5;66;03m# 1) Read HTML\u001b[39;00m\n\u001b[1;32m---> 11\u001b[0m \u001b[38;5;28;01mwith\u001b[39;00m \u001b[38;5;28mopen\u001b[39m(html_path, \u001b[38;5;124m\"\u001b[39m\u001b[38;5;124mr\u001b[39m\u001b[38;5;124m\"\u001b[39m, encoding\u001b[38;5;241m=\u001b[39m\u001b[38;5;124m\"\u001b[39m\u001b[38;5;124mutf-8\u001b[39m\u001b[38;5;124m\"\u001b[39m) \u001b[38;5;28;01mas\u001b[39;00m f:\n\u001b[0;32m     12\u001b[0m     html \u001b[38;5;241m=\u001b[39m f\u001b[38;5;241m.\u001b[39mread()\n\u001b[0;32m     14\u001b[0m \u001b[38;5;66;03m# 2) Parse table following \"Enrichment\" header\u001b[39;00m\n",
      "File \u001b[1;32m~\\AppData\\Local\\anaconda3\\envs\\anaconda3\\Lib\\site-packages\\IPython\\core\\interactiveshell.py:324\u001b[0m, in \u001b[0;36m_modified_open\u001b[1;34m(file, *args, **kwargs)\u001b[0m\n\u001b[0;32m    317\u001b[0m \u001b[38;5;28;01mif\u001b[39;00m file \u001b[38;5;129;01min\u001b[39;00m {\u001b[38;5;241m0\u001b[39m, \u001b[38;5;241m1\u001b[39m, \u001b[38;5;241m2\u001b[39m}:\n\u001b[0;32m    318\u001b[0m     \u001b[38;5;28;01mraise\u001b[39;00m \u001b[38;5;167;01mValueError\u001b[39;00m(\n\u001b[0;32m    319\u001b[0m         \u001b[38;5;124mf\u001b[39m\u001b[38;5;124m\"\u001b[39m\u001b[38;5;124mIPython won\u001b[39m\u001b[38;5;124m'\u001b[39m\u001b[38;5;124mt let you open fd=\u001b[39m\u001b[38;5;132;01m{\u001b[39;00mfile\u001b[38;5;132;01m}\u001b[39;00m\u001b[38;5;124m by default \u001b[39m\u001b[38;5;124m\"\u001b[39m\n\u001b[0;32m    320\u001b[0m         \u001b[38;5;124m\"\u001b[39m\u001b[38;5;124mas it is likely to crash IPython. If you know what you are doing, \u001b[39m\u001b[38;5;124m\"\u001b[39m\n\u001b[0;32m    321\u001b[0m         \u001b[38;5;124m\"\u001b[39m\u001b[38;5;124myou can use builtins\u001b[39m\u001b[38;5;124m'\u001b[39m\u001b[38;5;124m open.\u001b[39m\u001b[38;5;124m\"\u001b[39m\n\u001b[0;32m    322\u001b[0m     )\n\u001b[1;32m--> 324\u001b[0m \u001b[38;5;28;01mreturn\u001b[39;00m io_open(file, \u001b[38;5;241m*\u001b[39margs, \u001b[38;5;241m*\u001b[39m\u001b[38;5;241m*\u001b[39mkwargs)\n",
      "\u001b[1;31mFileNotFoundError\u001b[0m: [Errno 2] No such file or directory: 'data/uranium_enrichment.html'"
     ]
    }
   ],
   "source": [
    "import io\n",
    "import pandas as pd\n",
    "from bs4 import BeautifulSoup\n",
    "\n",
    "def fetch_uranium_enrichment_capacity_clean(output_csv: str, html_path: str):\n",
    "    \"\"\"\n",
    "    Scrapes and cleans the uranium enrichment capacity table, dropping repeated headers.\n",
    "    Reads from local HTML file at html_path.\n",
    "    \"\"\"\n",
    "    # 1) Read HTML\n",
    "    with open(html_path, \"r\", encoding=\"utf-8\") as f:\n",
    "        html = f.read()\n",
    "    \n",
    "    # 2) Parse table following \"Enrichment\" header\n",
    "    soup = BeautifulSoup(html, \"html.parser\")\n",
    "    header = soup.find(lambda tag: tag.name in [\"h2\", \"h3\"] and \"Enrichment\" in tag.get_text())\n",
    "    if not header:\n",
    "        raise ValueError(\"Enrichment header not found\")\n",
    "    table_tag = header.find_next(\"table\")\n",
    "    if table_tag is None:\n",
    "        raise ValueError(\"No table found after Enrichment header\")\n",
    "\n",
    "    # 3) Read into DataFrame\n",
    "    df = pd.read_html(io.StringIO(str(table_tag)))[0]\n",
    "\n",
    "    # 4) Drop any repeated header rows\n",
    "    df = df[df.iloc[:, 0] != \"Operator\"].reset_index(drop=True)\n",
    "\n",
    "    # 5) Flatten any MultiIndex columns\n",
    "    if isinstance(df.columns, pd.MultiIndex):\n",
    "        df.columns = [\n",
    "            f\"{str(a).strip()} {str(b).strip()}\".strip()\n",
    "            for a, b in df.columns\n",
    "        ]\n",
    "\n",
    "    # 6) Standardize columns\n",
    "    df.columns = [str(c).strip().replace(\"\\n\", \" \") for c in df.columns]\n",
    "\n",
    "    # 7) Convert numeric columns, skipping the first column\n",
    "    for col in df.columns[1:]:\n",
    "        df[col] = (\n",
    "            df[col].astype(str)\n",
    "            .str.replace(\",\", \"\", regex=False)\n",
    "            .str.strip()\n",
    "            .replace(\"\", \"0\")\n",
    "        )\n",
    "        df[col] = pd.to_numeric(df[col], errors=\"coerce\").fillna(0).astype(int)\n",
    "\n",
    "    # 8) Save cleaned CSV\n",
    "    df.to_csv(output_csv, index=False)\n",
    "    return df\n",
    "\n",
    "# Example usage:\n",
    "if __name__ == \"__main__\":\n",
    "    df_clean = fetch_uranium_enrichment_capacity_clean(\n",
    "        output_csv=\"data/uranium_enrichment_capacity_clean.csv\",\n",
    "        html_path=\"data/uranium_enrichment.html\"\n",
    "    )\n",
    "    print(df_clean)\n"
   ]
  },
  {
   "cell_type": "code",
   "execution_count": 25,
   "id": "e8b98be5-9108-4a4b-bc1c-d84a745e9028",
   "metadata": {},
   "outputs": [],
   "source": [
    "DATASETS = {\n",
    "    \"OperationalReactorsByCountry\":        \"Operational Reactors by Country\",\n",
    "    \"OperationalReactorsByType\":           \"Operational Reactors by Type\",\n",
    "    \"OperationalReactorsByRegion\":         \"Operational Reactors by Region\",\n",
    "    \"UnderConstructionReactorsByCountry\":  \"Under Construction by Country\",\n",
    "    \"PermanentShutdownReactorsByCountry\":  \"Permanent Shutdown by Country\",\n",
    "    \"Last3YearEnergyAvailability\":         \"Last 3-Year Energy Availability\",\n",
    "    \"Last3YearUnitCapability\":             \"Last 3-Year Unit Capability\",\n",
    "    \"Last3YearUnplannedCapacityLoss\":      \"Last 3-Year Unplanned Capacity Loss\",\n",
    "    \"LifeTimeEnergyAvailability\":          \"Lifetime Energy Availability\",\n",
    "    \"LifeTimeUnitCapability\":              \"Lifetime Unit Capability\",\n",
    "    \"LifeTimeUnplannedCapacityLoss\":       \"Lifetime Unplanned Capacity Loss\",\n",
    "    \"TrendNuclearPowerCapacity\":           \"Trend Nuclear Power Capacity\",\n",
    "    \"TrendEnergyAvailability\":             \"Trend Energy Availability\",\n",
    "    \"TrendUnitCapability\":                 \"Trend Unit Capability\",\n",
    "    \"TrendUnplannedCapacityLoss\":          \"Trend Unplanned Capacity Loss\",\n",
    "    \"TrendLoadFactor\":                     \"Trend Load Factor\",\n",
    "    \"TrendElectricitySupplied\":            \"Trend Electricity Supplied\",\n",
    "    \"TrendNuclearShare\":                   \"Trend Nuclear Share\",\n",
    "    \"TrendAgeDistribution\":                \"Trend Age Distribution\"\n",
    "}"
   ]
  },
  {
   "cell_type": "code",
   "execution_count": null,
   "id": "eb05d3ac-19d9-4638-9b32-03f9d827b24d",
   "metadata": {},
   "outputs": [],
   "source": [
    "https://pris.iaea.org/rdl/odata/PRIS/OperationalReactorsByRegion?$format=json&$top=5000\n"
   ]
  }
 ],
 "metadata": {
  "kernelspec": {
   "display_name": "Python 3 (ipykernel)",
   "language": "python",
   "name": "python3"
  },
  "language_info": {
   "codemirror_mode": {
    "name": "ipython",
    "version": 3
   },
   "file_extension": ".py",
   "mimetype": "text/x-python",
   "name": "python",
   "nbconvert_exporter": "python",
   "pygments_lexer": "ipython3",
   "version": "3.12.9"
  }
 },
 "nbformat": 4,
 "nbformat_minor": 5
}
